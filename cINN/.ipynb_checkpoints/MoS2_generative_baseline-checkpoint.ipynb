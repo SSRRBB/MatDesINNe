{
 "cells": [
  {
   "cell_type": "markdown",
   "metadata": {},
   "source": [
    "# load forward model "
   ]
  },
  {
   "cell_type": "code",
   "execution_count": 1,
   "metadata": {},
   "outputs": [],
   "source": [
    "%matplotlib inline\n",
    "import torch\n",
    "import numpy as np\n",
    "import model\n",
    "from string import ascii_letters\n",
    "import numpy as np\n",
    "import pandas as pd\n",
    "import seaborn as sns\n",
    "import matplotlib.pyplot as plt\n",
    "from torch.autograd import Variable\n",
    "\n",
    "from numpy import sin, cos\n",
    "import matplotlib.pyplot as plt\n",
    "device = 'cuda' if torch.cuda.is_available() else 'cpu'\n",
    "import config as c\n"
   ]
  },
  {
   "cell_type": "markdown",
   "metadata": {},
   "source": [
    "# load generative model"
   ]
  },
  {
   "cell_type": "code",
   "execution_count": 2,
   "metadata": {},
   "outputs": [],
   "source": [
    "%matplotlib inline\n",
    "import torch\n",
    "import numpy as np\n",
    "import model\n",
    "\n",
    "\n",
    "filename = 'MoS2_cinn.pkl'\n",
    "pretrained_net1 = torch.load(filename,map_location=lambda storage, loc: storage)\n",
    "    \n",
    "model_b = model.model\n",
    "model_b.load_state_dict(pretrained_net1)\n",
    "# print(model_b)\n",
    "\n",
    "# draw posterior samples given a specific y\n",
    "\n",
    "n_samps = 1000\n",
    "y0 = 1.0\n",
    "\n",
    "y_fix = np.zeros((n_samps, 1)) + y0\n",
    "y_fix = torch.tensor(y_fix, dtype=torch.float)\n",
    "\n",
    "# y_fix += c.add_y_noise * torch.randn(n_samps, c.ndim_y)\n",
    "# y_fix = torch.cat([torch.randn(n_samps, c.ndim_z), c.add_z_noise * torch.zeros(n_samps, 0), y_fix], dim=1)\n",
    "y_fix = y_fix.to(device)\n",
    "\n",
    "# dim_z = 7\n",
    "# z = torch.randn(n_samps, c.ndim_z, device=device)\n",
    "z_fix = torch.cat([torch.randn(n_samps, c.ndim_z), y_fix], dim=1)\n",
    "\n",
    "rev_x0 = model_b(z_fix, y_fix, rev=True).cpu().data.numpy()\n",
    "                \n",
    "# posterior samples\n",
    "# rev_x0 = model_b(y_fix, rev=True)\n",
    "# print(rev_x0)\n",
    "\n",
    "## current backward model to predict\n",
    "# out_y0 = model_b(rev_x0)\n",
    "# print(out_y0[:,-1])\n",
    "\n",
    "\n",
    "## save generative samples\n",
    "# rev_x = rev_x0.cpu().data.numpy()\n",
    "\n",
    "fname = 'gen_samps_cinn.csv'\n",
    "np.savetxt(fname, rev_x0, fmt='%.6f', delimiter=',') "
   ]
  }
 ],
 "metadata": {
  "kernelspec": {
   "display_name": "Python 3",
   "language": "python",
   "name": "python3"
  },
  "language_info": {
   "codemirror_mode": {
    "name": "ipython",
    "version": 3
   },
   "file_extension": ".py",
   "mimetype": "text/x-python",
   "name": "python",
   "nbconvert_exporter": "python",
   "pygments_lexer": "ipython3",
   "version": "3.7.9"
  }
 },
 "nbformat": 4,
 "nbformat_minor": 2
}
